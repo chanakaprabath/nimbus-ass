{
 "cells": [
  {
   "cell_type": "code",
   "execution_count": 0,
   "metadata": {
    "application/vnd.databricks.v1+cell": {
     "cellMetadata": {
      "byteLimit": 2048000,
      "rowLimit": 10000
     },
     "inputWidgets": {},
     "nuid": "05565122-6843-4e55-8234-52ed3d3eab3a",
     "showTitle": false,
     "title": ""
    }
   },
   "outputs": [],
   "source": [
    "dbutils.widgets.text(\"container\",\"data\")\n",
    "dbutils.widgets.text(\"blob\",\"HE_Regions.zip\")\n",
    "container= dbutils.widgets.get(\"container\")\n",
    "blob = dbutils.widgets.get(\"blob\")"
   ]
  },
  {
   "cell_type": "code",
   "execution_count": 0,
   "metadata": {
    "application/vnd.databricks.v1+cell": {
     "cellMetadata": {
      "byteLimit": 2048000,
      "rowLimit": 10000
     },
     "inputWidgets": {},
     "nuid": "e0fce78a-368e-4e7b-ae93-0174df7b8fca",
     "showTitle": false,
     "title": ""
    }
   },
   "outputs": [
    {
     "output_type": "stream",
     "name": "stdout",
     "output_type": "stream",
     "text": [
      "\u001B[43mNote: you may need to restart the kernel using dbutils.library.restartPython() to use updated packages.\u001B[0m\nRequirement already satisfied: uploadshapefile==1.0.0 in /local_disk0/.ephemeral_nfs/envs/pythonEnv-de0cf2be-4524-4200-ab92-da8074b11258/lib/python3.10/site-packages (1.0.0)\nRequirement already satisfied: requests in /databricks/python3/lib/python3.10/site-packages (from uploadshapefile==1.0.0) (2.28.1)\nRequirement already satisfied: urllib3<1.27,>=1.21.1 in /databricks/python3/lib/python3.10/site-packages (from requests->uploadshapefile==1.0.0) (1.26.14)\nRequirement already satisfied: idna<4,>=2.5 in /databricks/python3/lib/python3.10/site-packages (from requests->uploadshapefile==1.0.0) (3.4)\nRequirement already satisfied: certifi>=2017.4.17 in /databricks/python3/lib/python3.10/site-packages (from requests->uploadshapefile==1.0.0) (2022.12.7)\nRequirement already satisfied: charset-normalizer<3,>=2 in /databricks/python3/lib/python3.10/site-packages (from requests->uploadshapefile==1.0.0) (2.0.4)\n\u001B[43mNote: you may need to restart the kernel using dbutils.library.restartPython() to use updated packages.\u001B[0m\n"
     ]
    }
   ],
   "source": [
    "%pip install uploadshapefile==1.0.0\n"
   ]
  },
  {
   "cell_type": "code",
   "execution_count": 0,
   "metadata": {
    "application/vnd.databricks.v1+cell": {
     "cellMetadata": {
      "byteLimit": 2048000,
      "rowLimit": 10000
     },
     "inputWidgets": {},
     "nuid": "73cbc6a2-4cc2-4578-9138-4264067a4e0d",
     "showTitle": false,
     "title": ""
    }
   },
   "outputs": [],
   "source": [
    "from pyspark.sql import SparkSession\n",
    "from datetime import datetime\n",
    "from uploadshapefile import functions\n",
    "from pytz import timezone\n",
    "\n",
    "\n",
    "spark = SparkSession.builder.appName(\"Shapefile_load\").getOrCreate()\n",
    "\n",
    "upload_result = functions.upload(container,blob)#load data\n",
    "log_data = [(datetime.now(timezone('Asia/Kolkata')).isoformat(), str(upload_result))]# Prepare data for logging\n",
    "log_df = spark.createDataFrame(log_data, schema=[\"timestamp\", \"upload_result\"])# Create a DataFrame\n",
    "\n",
    "log_df.write.format(\"delta\").mode(\"append\").saveAsTable(\"shapefile_processing_logs\")# Save as a Delta Lake table\n"
   ]
  },
  {
   "cell_type": "code",
   "execution_count": 0,
   "metadata": {
    "application/vnd.databricks.v1+cell": {
     "cellMetadata": {
      "byteLimit": 2048000,
      "rowLimit": 10000
     },
     "inputWidgets": {},
     "nuid": "8d796eb0-05fc-4bd2-a593-d5ce80379d09",
     "showTitle": false,
     "title": ""
    }
   },
   "outputs": [],
   "source": [
    "if 'error' in str(upload_result):\n",
    "    status='error'\n",
    "else:\n",
    "    status='success'\n",
    "dbutils.notebook.exit((str(upload_result),status))"
   ]
  }
 ],
 "metadata": {
  "application/vnd.databricks.v1+notebook": {
   "dashboards": [],
   "environmentMetadata": null,
   "language": "python",
   "notebookMetadata": {
    "pythonIndentUnit": 4
   },
   "notebookName": "load_data",
   "widgets": {
    "blob": {
     "currentValue": "HE_Regions.zip",
     "nuid": "d0f11e7b-cca2-4a2d-a762-ab991a99f5e1",
     "typedWidgetInfo": null,
     "widgetInfo": {
      "widgetType": "text",
      "defaultValue": "HE_Regions.zip",
      "label": null,
      "name": "blob",
      "options": {
       "widgetType": "text",
       "autoCreated": null,
       "validationRegex": null
      }
     }
    },
    "container": {
     "currentValue": "data",
     "nuid": "0a57f18a-7afc-4962-855a-ec17a8691468",
     "typedWidgetInfo": null,
     "widgetInfo": {
      "widgetType": "text",
      "defaultValue": "data",
      "label": null,
      "name": "container",
      "options": {
       "widgetType": "text",
       "autoCreated": null,
       "validationRegex": null
      }
     }
    }
   }
  }
 },
 "nbformat": 4,
 "nbformat_minor": 0
}
